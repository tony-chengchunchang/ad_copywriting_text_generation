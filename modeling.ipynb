{
 "cells": [
  {
   "cell_type": "markdown",
   "metadata": {},
   "source": [
    "# Ad Copywriting Generation\n",
    "- Dataset: A collection of digital ads copywriting text of an EC retailer \n",
    "- The dataset contains only one column \"body\", which shows the ad text of every ad.\n",
    "- An ad text may contain a few lines, which can be devided by \"\\n\""
   ]
  },
  {
   "cell_type": "code",
   "execution_count": 1,
   "metadata": {},
   "outputs": [],
   "source": [
    "import tensorflow as tf\n",
    "import pandas as pd\n",
    "import re"
   ]
  },
  {
   "cell_type": "code",
   "execution_count": 2,
   "metadata": {},
   "outputs": [
    {
     "data": {
      "text/plain": [
       "'2.5.0'"
      ]
     },
     "execution_count": 2,
     "metadata": {},
     "output_type": "execute_result"
    }
   ],
   "source": [
    "tf.__version__"
   ]
  },
  {
   "cell_type": "markdown",
   "metadata": {},
   "source": [
    "## Load data set"
   ]
  },
  {
   "cell_type": "code",
   "execution_count": 3,
   "metadata": {},
   "outputs": [],
   "source": [
    "data_df = pd.read_csv('raw_text.csv')\n",
    "\n",
    "# in case that there are any na data in the dataset\n",
    "data_df = data_df.dropna().reset_index(drop=True)"
   ]
  },
  {
   "cell_type": "code",
   "execution_count": 4,
   "metadata": {},
   "outputs": [
    {
     "data": {
      "text/html": [
       "<div>\n",
       "<style scoped>\n",
       "    .dataframe tbody tr th:only-of-type {\n",
       "        vertical-align: middle;\n",
       "    }\n",
       "\n",
       "    .dataframe tbody tr th {\n",
       "        vertical-align: top;\n",
       "    }\n",
       "\n",
       "    .dataframe thead th {\n",
       "        text-align: right;\n",
       "    }\n",
       "</style>\n",
       "<table border=\"1\" class=\"dataframe\">\n",
       "  <thead>\n",
       "    <tr style=\"text-align: right;\">\n",
       "      <th></th>\n",
       "      <th>body</th>\n",
       "    </tr>\n",
       "  </thead>\n",
       "  <tbody>\n",
       "    <tr>\n",
       "      <th>0</th>\n",
       "      <td>#聽說今年冬天沒在開玩笑 #可能不只媽媽覺得冷\\n免緊張😎快收集Footer禦寒法寶，不怕低...</td>\n",
       "    </tr>\n",
       "    <tr>\n",
       "      <th>1</th>\n",
       "      <td>❤️2021MARVEL系列襪款－黑寡婦款登場🖤\\nFooter專業機能除臭襪，日常百搭襪款...</td>\n",
       "    </tr>\n",
       "    <tr>\n",
       "      <th>2</th>\n",
       "      <td>Footer重磅登場👊漫威系列襪\\n💥浩克款💥強力出擊\\n機能除臭6雙／$1200，搶購去👉...</td>\n",
       "    </tr>\n",
       "    <tr>\n",
       "      <th>3</th>\n",
       "      <td>每一次洗臉，都像在星級飯店裡享受🥰\\nFooter 頂級抑菌洗顏毛巾｜柔軟蓬鬆舒適\\n嚴選1...</td>\n",
       "    </tr>\n",
       "    <tr>\n",
       "      <th>4</th>\n",
       "      <td>你知道嗎？襪子穿久就算有洗還是會飄異味😨\\n只有 #Footer 除臭襪 讓你天天月月年年穿...</td>\n",
       "    </tr>\n",
       "  </tbody>\n",
       "</table>\n",
       "</div>"
      ],
      "text/plain": [
       "                                                body\n",
       "0  #聽說今年冬天沒在開玩笑 #可能不只媽媽覺得冷\\n免緊張😎快收集Footer禦寒法寶，不怕低...\n",
       "1  ❤️2021MARVEL系列襪款－黑寡婦款登場🖤\\nFooter專業機能除臭襪，日常百搭襪款...\n",
       "2  Footer重磅登場👊漫威系列襪\\n💥浩克款💥強力出擊\\n機能除臭6雙／$1200，搶購去👉...\n",
       "3  每一次洗臉，都像在星級飯店裡享受🥰\\nFooter 頂級抑菌洗顏毛巾｜柔軟蓬鬆舒適\\n嚴選1...\n",
       "4  你知道嗎？襪子穿久就算有洗還是會飄異味😨\\n只有 #Footer 除臭襪 讓你天天月月年年穿..."
      ]
     },
     "execution_count": 4,
     "metadata": {},
     "output_type": "execute_result"
    }
   ],
   "source": [
    "data_df.head()"
   ]
  },
  {
   "cell_type": "markdown",
   "metadata": {},
   "source": [
    "## Preprocessing\n",
    "### Get rid of irrelevant info such as url"
   ]
  },
  {
   "cell_type": "code",
   "execution_count": 5,
   "metadata": {},
   "outputs": [],
   "source": [
    "def process_text(text):\n",
    "    html_ptn = re.compile(r'https://.+/.+')\n",
    "    \n",
    "    clean_text = re.sub(html_ptn, '', text)\n",
    "    clean_text = clean_text.replace('\\u3000', '').replace('\\n\\n', '\\n')\n",
    "    \n",
    "    return clean_text\n",
    "\n",
    "data_df['clean_text'] = data_df['body'].apply(process_text)"
   ]
  },
  {
   "cell_type": "code",
   "execution_count": 351,
   "metadata": {},
   "outputs": [
    {
     "data": {
      "text/html": [
       "<div>\n",
       "<style scoped>\n",
       "    .dataframe tbody tr th:only-of-type {\n",
       "        vertical-align: middle;\n",
       "    }\n",
       "\n",
       "    .dataframe tbody tr th {\n",
       "        vertical-align: top;\n",
       "    }\n",
       "\n",
       "    .dataframe thead th {\n",
       "        text-align: right;\n",
       "    }\n",
       "</style>\n",
       "<table border=\"1\" class=\"dataframe\">\n",
       "  <thead>\n",
       "    <tr style=\"text-align: right;\">\n",
       "      <th></th>\n",
       "      <th>body</th>\n",
       "      <th>clean_text</th>\n",
       "    </tr>\n",
       "  </thead>\n",
       "  <tbody>\n",
       "    <tr>\n",
       "      <th>0</th>\n",
       "      <td>#聽說今年冬天沒在開玩笑 #可能不只媽媽覺得冷\\n免緊張😎快收集Footer禦寒法寶，不怕低...</td>\n",
       "      <td>#聽說今年冬天沒在開玩笑 #可能不只媽媽覺得冷\\n免緊張😎快收集Footer禦寒法寶，不怕低...</td>\n",
       "    </tr>\n",
       "    <tr>\n",
       "      <th>1</th>\n",
       "      <td>❤️2021MARVEL系列襪款－黑寡婦款登場🖤\\nFooter專業機能除臭襪，日常百搭襪款...</td>\n",
       "      <td>❤️2021MARVEL系列襪款－黑寡婦款登場🖤\\nFooter專業機能除臭襪，日常百搭襪款...</td>\n",
       "    </tr>\n",
       "    <tr>\n",
       "      <th>2</th>\n",
       "      <td>Footer重磅登場👊漫威系列襪\\n💥浩克款💥強力出擊\\n機能除臭6雙／$1200，搶購去👉...</td>\n",
       "      <td>Footer重磅登場👊漫威系列襪\\n💥浩克款💥強力出擊\\n機能除臭6雙／$1200，搶購去👉...</td>\n",
       "    </tr>\n",
       "    <tr>\n",
       "      <th>3</th>\n",
       "      <td>每一次洗臉，都像在星級飯店裡享受🥰\\nFooter 頂級抑菌洗顏毛巾｜柔軟蓬鬆舒適\\n嚴選1...</td>\n",
       "      <td>每一次洗臉，都像在星級飯店裡享受🥰\\nFooter 頂級抑菌洗顏毛巾｜柔軟蓬鬆舒適\\n嚴選1...</td>\n",
       "    </tr>\n",
       "    <tr>\n",
       "      <th>4</th>\n",
       "      <td>你知道嗎？襪子穿久就算有洗還是會飄異味😨\\n只有 #Footer 除臭襪 讓你天天月月年年穿...</td>\n",
       "      <td>你知道嗎？襪子穿久就算有洗還是會飄異味😨\\n只有 #Footer 除臭襪 讓你天天月月年年穿...</td>\n",
       "    </tr>\n",
       "  </tbody>\n",
       "</table>\n",
       "</div>"
      ],
      "text/plain": [
       "                                                body  \\\n",
       "0  #聽說今年冬天沒在開玩笑 #可能不只媽媽覺得冷\\n免緊張😎快收集Footer禦寒法寶，不怕低...   \n",
       "1  ❤️2021MARVEL系列襪款－黑寡婦款登場🖤\\nFooter專業機能除臭襪，日常百搭襪款...   \n",
       "2  Footer重磅登場👊漫威系列襪\\n💥浩克款💥強力出擊\\n機能除臭6雙／$1200，搶購去👉...   \n",
       "3  每一次洗臉，都像在星級飯店裡享受🥰\\nFooter 頂級抑菌洗顏毛巾｜柔軟蓬鬆舒適\\n嚴選1...   \n",
       "4  你知道嗎？襪子穿久就算有洗還是會飄異味😨\\n只有 #Footer 除臭襪 讓你天天月月年年穿...   \n",
       "\n",
       "                                          clean_text  \n",
       "0  #聽說今年冬天沒在開玩笑 #可能不只媽媽覺得冷\\n免緊張😎快收集Footer禦寒法寶，不怕低...  \n",
       "1  ❤️2021MARVEL系列襪款－黑寡婦款登場🖤\\nFooter專業機能除臭襪，日常百搭襪款...  \n",
       "2  Footer重磅登場👊漫威系列襪\\n💥浩克款💥強力出擊\\n機能除臭6雙／$1200，搶購去👉...  \n",
       "3  每一次洗臉，都像在星級飯店裡享受🥰\\nFooter 頂級抑菌洗顏毛巾｜柔軟蓬鬆舒適\\n嚴選1...  \n",
       "4  你知道嗎？襪子穿久就算有洗還是會飄異味😨\\n只有 #Footer 除臭襪 讓你天天月月年年穿...  "
      ]
     },
     "execution_count": 351,
     "metadata": {},
     "output_type": "execute_result"
    }
   ],
   "source": [
    "data_df.head()"
   ]
  },
  {
   "cell_type": "markdown",
   "metadata": {},
   "source": [
    "### Tokenization\n",
    "Combine all texts into a big string, and convert every word to an integer token."
   ]
  },
  {
   "cell_type": "code",
   "execution_count": 6,
   "metadata": {},
   "outputs": [],
   "source": [
    "corpus = ''.join(data_df['clean_text'].to_list())\n",
    "\n",
    "unique_chars = set(corpus)\n",
    "\n",
    "tokenizer = tf.keras.preprocessing.text.Tokenizer(\n",
    "                num_words=len(unique_chars),\n",
    "                filters='',\n",
    "                char_level=True\n",
    "            )\n",
    "\n",
    "tokenizer.fit_on_texts(corpus)\n",
    "\n",
    "char_ids = tokenizer.texts_to_sequences([corpus])[0]\n",
    "\n",
    "char_ids_dset = tf.data.Dataset.from_tensor_slices(char_ids)"
   ]
  },
  {
   "cell_type": "code",
   "execution_count": 353,
   "metadata": {},
   "outputs": [
    {
     "data": {
      "text/plain": [
       "[4, 794, 295, 337, 62, 1107, 53, 283, 68, 219]"
      ]
     },
     "execution_count": 353,
     "metadata": {},
     "output_type": "execute_result"
    }
   ],
   "source": [
    "char_ids[:10]"
   ]
  },
  {
   "cell_type": "markdown",
   "metadata": {},
   "source": [
    "### Generate train data for modeling\n",
    "1. Batch the tokens by desired sequence length + 1; an output will be an input shifts one step to the right.\n",
    "2. Map every sequence to a tuple of (inputs, outputs)\n",
    "3. Batch the sequences data to training dataset for modeling"
   ]
  },
  {
   "cell_type": "code",
   "execution_count": 7,
   "metadata": {},
   "outputs": [],
   "source": [
    "seq_len = 10\n",
    "batch_size = 32\n",
    "\n",
    "seq_dset = char_ids_dset.batch(seq_len+1, drop_remainder=True)\n",
    "\n",
    "def make_input_output(seq):\n",
    "    inputs = seq[:-1]\n",
    "    outputs = seq[1:]\n",
    "    \n",
    "    return inputs, outputs\n",
    "\n",
    "train_dset = seq_dset.map(make_input_output).shuffle(len(unique_chars)).batch(batch_size, drop_remainder=True)"
   ]
  },
  {
   "cell_type": "markdown",
   "metadata": {},
   "source": [
    "### The whole preprocessing job can be wrapped in a convenient class for running more experiments"
   ]
  },
  {
   "cell_type": "code",
   "execution_count": 14,
   "metadata": {},
   "outputs": [],
   "source": [
    "class Preprocessor:\n",
    "    def __init__(self, fp):\n",
    "        self.fp = fp\n",
    "        self.data_df = None\n",
    "        self.corpus = None\n",
    "        self.vocab = None\n",
    "        self.char_ids_dset = None\n",
    "        \n",
    "    @staticmethod\n",
    "    def process_text(text):\n",
    "        html_ptn = re.compile(r'https://.+/.+')\n",
    "\n",
    "        clean_text = re.sub(html_ptn, '', text)\n",
    "        clean_text = clean_text.replace('\\u3000', '').replace('\\n\\n', '\\n')\n",
    "\n",
    "        return clean_text\n",
    "    \n",
    "    def get_tokenizer(self, corpus, filters='', char_level=True):\n",
    "        vocab = set(corpus)\n",
    "        tokenizer = tf.keras.preprocessing.text.Tokenizer(\n",
    "            num_words=len(vocab),\n",
    "            filters=filters,\n",
    "            char_level=char_level\n",
    "        )\n",
    "        tokenizer.fit_on_texts(corpus)\n",
    "        \n",
    "        self.corpus = corpus\n",
    "        self.vocab = set(corpus)\n",
    "        self.tokenizer = tokenizer\n",
    "        \n",
    "        return tokenizer\n",
    "    \n",
    "    @staticmethod\n",
    "    def make_input_output(seq):\n",
    "        inputs = seq[:-1]\n",
    "        outputs = seq[1:]\n",
    "\n",
    "        return inputs, outputs\n",
    "    \n",
    "    def _preprocess(self):\n",
    "        data_df = pd.read_csv(self.fp)\n",
    "        data_df = data_df.dropna().reset_index(drop=True)\n",
    "        data_df['clean_text'] = data_df['body'].apply(self.process_text)\n",
    "        corpus = ''.join(data_df['clean_text'].to_list())\n",
    "\n",
    "        tokenizer = self.get_tokenizer(corpus)\n",
    "        char_ids = tokenizer.texts_to_sequences([corpus])[0]\n",
    "        char_ids_dset = tf.data.Dataset.from_tensor_slices(char_ids)\n",
    "        \n",
    "        self.data_df = data_df\n",
    "        self.char_ids_dset = char_ids_dset\n",
    "        \n",
    "        return char_ids_dset\n",
    "    \n",
    "    def get_training_dataset(self, seq_len, batch_size):\n",
    "        char_ids_dset = self._preprocess()\n",
    "        seq_dset = char_ids_dset.batch(seq_len+1, drop_remainder=True)\n",
    "        train_dset = (seq_dset.map(self.make_input_output)\n",
    "                      .shuffle(len(self.vocab))\n",
    "                      .batch(batch_size, drop_remainder=True))\n",
    "        \n",
    "        self.seq_dset = seq_dset\n",
    "        self.train_dset = train_dset\n",
    "        \n",
    "        return train_dset"
   ]
  },
  {
   "cell_type": "markdown",
   "metadata": {},
   "source": [
    "## Build the model"
   ]
  },
  {
   "cell_type": "code",
   "execution_count": 9,
   "metadata": {},
   "outputs": [],
   "source": [
    "class TextGenModel(tf.keras.Model):\n",
    "    def __init__(self, vocab_size, embedding_dim, rnn_units):\n",
    "        super().__init__(self)\n",
    "        self.embedding = tf.keras.layers.Embedding(input_dim=vocab_size, output_dim=embedding_dim)\n",
    "        self.gru = tf.keras.layers.GRU(rnn_units, return_sequences=True, return_state=True)\n",
    "        self.dense = tf.keras.layers.Dense(vocab_size)\n",
    "        \n",
    "    def call(self, inputs, states=None, return_state=False, training=False):\n",
    "        x = inputs\n",
    "        x = self.embedding(x, training=training)\n",
    "        if states is None:\n",
    "            states = self.gru.get_initial_state(x)\n",
    "        \n",
    "        x, states = self.gru(x, initial_state=states, training=training)\n",
    "        outputs = self.dense(x, training=training)\n",
    "        \n",
    "        if return_state:\n",
    "            return outputs, states\n",
    "        else:\n",
    "            return outputs"
   ]
  },
  {
   "cell_type": "code",
   "execution_count": 11,
   "metadata": {},
   "outputs": [],
   "source": [
    "embedding_dim = 256\n",
    "rnn_units = 1024\n",
    "model = TextGenModel(len(unique_chars), embedding_dim, rnn_units)"
   ]
  },
  {
   "cell_type": "code",
   "execution_count": 19,
   "metadata": {},
   "outputs": [],
   "source": [
    "# using SparseCategoricalCrossentropy because there are more then 2 labels\n",
    "# using param from_logits because the previous layer does not use activation func\n",
    "model.compile(optimizer='adam', loss=tf.losses.SparseCategoricalCrossentropy(from_logits=True))"
   ]
  },
  {
   "cell_type": "markdown",
   "metadata": {},
   "source": [
    "## Train the model"
   ]
  },
  {
   "cell_type": "code",
   "execution_count": 187,
   "metadata": {
    "scrolled": true
   },
   "outputs": [
    {
     "name": "stdout",
     "output_type": "stream",
     "text": [
      "Epoch 1/20\n",
      "567/567 [==============================] - 76s 130ms/step - loss: 4.5741\n",
      "Epoch 2/20\n",
      "567/567 [==============================] - 75s 132ms/step - loss: 3.1175\n",
      "Epoch 3/20\n",
      "567/567 [==============================] - 74s 131ms/step - loss: 2.4949\n",
      "Epoch 4/20\n",
      "567/567 [==============================] - 75s 132ms/step - loss: 2.0159\n",
      "Epoch 5/20\n",
      "567/567 [==============================] - 75s 132ms/step - loss: 1.6057\n",
      "Epoch 6/20\n",
      "567/567 [==============================] - 71s 125ms/step - loss: 1.2764\n",
      "Epoch 7/20\n",
      "567/567 [==============================] - 72s 126ms/step - loss: 1.0336\n",
      "Epoch 8/20\n",
      "567/567 [==============================] - 73s 128ms/step - loss: 0.8762\n",
      "Epoch 9/20\n",
      "567/567 [==============================] - 73s 129ms/step - loss: 0.7832\n",
      "Epoch 10/20\n",
      "567/567 [==============================] - 73s 129ms/step - loss: 0.7272\n",
      "Epoch 11/20\n",
      "567/567 [==============================] - 74s 131ms/step - loss: 0.6948\n",
      "Epoch 12/20\n",
      "567/567 [==============================] - 74s 130ms/step - loss: 0.6722\n",
      "Epoch 13/20\n",
      "567/567 [==============================] - 75s 132ms/step - loss: 0.6551\n",
      "Epoch 14/20\n",
      "567/567 [==============================] - 75s 132ms/step - loss: 0.6458\n",
      "Epoch 15/20\n",
      "567/567 [==============================] - 76s 134ms/step - loss: 0.6374\n",
      "Epoch 16/20\n",
      "567/567 [==============================] - 75s 132ms/step - loss: 0.6273\n",
      "Epoch 17/20\n",
      "567/567 [==============================] - 76s 133ms/step - loss: 0.6198\n",
      "Epoch 18/20\n",
      "567/567 [==============================] - 76s 133ms/step - loss: 0.6155\n",
      "Epoch 19/20\n",
      "567/567 [==============================] - 76s 134ms/step - loss: 0.6092\n",
      "Epoch 20/20\n",
      "567/567 [==============================] - 76s 134ms/step - loss: 0.6053\n"
     ]
    }
   ],
   "source": [
    "history = model.fit(train_dset, epochs=20)"
   ]
  },
  {
   "cell_type": "code",
   "execution_count": 310,
   "metadata": {},
   "outputs": [
    {
     "data": {
      "text/plain": [
       "<matplotlib.axes._subplots.AxesSubplot at 0x7fb6e3eb47d0>"
      ]
     },
     "execution_count": 310,
     "metadata": {},
     "output_type": "execute_result"
    },
    {
     "data": {
      "image/png": "[encoded data removed]",
      "text/plain": [
       "<Figure size 432x288 with 1 Axes>"
      ]
     },
     "metadata": {
      "needs_background": "light"
     },
     "output_type": "display_data"
    }
   ],
   "source": [
    "pd.DataFrame(history.history['loss']).plot()"
   ]
  },
  {
   "cell_type": "markdown",
   "metadata": {},
   "source": [
    "## Save model"
   ]
  },
  {
   "cell_type": "code",
   "execution_count": null,
   "metadata": {},
   "outputs": [],
   "source": [
    "# Save the weights\n",
    "model.save_weights('test_model')\n",
    "\n",
    "# Reset the model\n",
    "embedding_dim = 256\n",
    "rnn_units = 1024\n",
    "test_model = TextGenModel(len(preprocessor.vocab), embedding_dim, rnn_units)\n",
    "\n",
    "# Load the weights\n",
    "test_model.load_weights('test_model')"
   ]
  },
  {
   "cell_type": "markdown",
   "metadata": {},
   "source": [
    "## Generate new ad copywriting"
   ]
  },
  {
   "cell_type": "code",
   "execution_count": 274,
   "metadata": {},
   "outputs": [],
   "source": [
    "# original\n",
    "class TextGenerator:\n",
    "    def __init__(self, model, tokenizer):\n",
    "        self.model = model\n",
    "        self.tokenizer = tokenizer\n",
    "    \n",
    "    def to_text(self, tokens):\n",
    "        '''\n",
    "        transfer tokens back to texts\n",
    "        '''\n",
    "        text = ''\n",
    "        for t in tokens:\n",
    "            word = self.tokenizer.index_word[t]\n",
    "            text += word\n",
    "\n",
    "        return text\n",
    "    \n",
    "    def generate_one_char(self, inputs, states=None, temperature=0.5):\n",
    "        # sequence can be in any length, does not have to be the same as the training data\n",
    "        sequence = self.tokenizer.texts_to_sequences([inputs])[0]\n",
    "        \n",
    "        # add batch dim\n",
    "        inputs_seq = tf.expand_dims(sequence, axis=0)\n",
    "        \n",
    "        # call the model\n",
    "        # difference btw call() & predict():\n",
    "        # predict() handles larger inputs and can do multi batches\n",
    "        # call() handles single batch\n",
    "        pred_logits, states = self.model(inputs_seq, states=states, return_state=True)\n",
    "        \n",
    "        # each time a char passed in, rnn will gen a pred and pass the pred and state into the model for next pred\n",
    "        # thus there will be serveral pred_logits according to how many inputs(chars) passed in\n",
    "        \n",
    "        # get the last pred cause that is the only result that we really want to predict\n",
    "        # eg. 'ab' => 'abc', the 'c' is the only thing we care about\n",
    "        last_char_pred_logits = pred_logits[:,-1,:]\n",
    "        \n",
    "        # devide the last_char_pred_logits by temperature(certain num)\n",
    "        # the greater temperature means greater diversity\n",
    "        last_char_pred_logits /= temperature\n",
    "        pred_id = tf.random.categorical(last_char_pred_logits, num_samples=1)\n",
    "        pred_id = tf.squeeze(pred_id, axis=1)\n",
    "        pred_char = self.to_text(pred_id.numpy())\n",
    "        \n",
    "        return pred_char, states\n",
    "    \n",
    "    def generate_texts(self, start_text, text_length, temperature=0.5):\n",
    "        states = None\n",
    "        outputs_seq = [start_text]\n",
    "        next_text = start_text\n",
    "        \n",
    "        for i in range(text_length):\n",
    "            next_text, states = self.generate_one_char(next_text, states=states, temperature=temperature)\n",
    "            outputs_seq.append(next_text)\n",
    "            \n",
    "        result = ''.join(outputs_seq)\n",
    "        \n",
    "        return result"
   ]
  },
  {
   "cell_type": "markdown",
   "metadata": {},
   "source": [
    "## Result in action"
   ]
  },
  {
   "cell_type": "code",
   "execution_count": 302,
   "metadata": {},
   "outputs": [
    {
     "name": "stdout",
     "output_type": "stream",
     "text": [
      "馬上入手，\n",
      "還在買1＋5雙只要2160\n",
      "》中職聯名襪3雙只要830元，6雙更划算$1,600\n",
      "再抽現金10萬 #按摩椅 #關島雙人來回機票\n",
      "#footer除臭系列\n",
      "#無效60天可退費\n",
      "#再見了腳上的鹹魚味\n",
      "#機能除臭襪全面特價中自從認識【footer】後，我的夏天就少了鹹魚的味道！\n",
      "穿上footer除臭襪，除臭抑菌x瞬間，讓我全面特惠中自從認識【footer】後，我的夏天就少了鹹魚的味道！\n",
      "穿出footer除臭襪，溫柔道謝🙇‍♀\n",
      "#老爸襪愛哩\n",
      "#照顧雙足再現爸氣一年３６５年，天天努力奮鬥清帳單（拭淚）\n",
      "今天我來付👊\n",
      "✔購買７雙＄１１８０\n",
      "✔１雙最低只要１６８起\n",
      "✔全館滿$800元即享免運\n",
      "✔不限金額，消\n"
     ]
    }
   ],
   "source": [
    "text_gen = TextGenerator(model, tokenizer)\n",
    "start_text = '馬上入手，'\n",
    "text_length = 300\n",
    "result = text_gen.generate_texts(start_text, text_length, temperature=0.8)\n",
    "print(result)"
   ]
  },
  {
   "cell_type": "code",
   "execution_count": null,
   "metadata": {},
   "outputs": [],
   "source": []
  }
 ],
 "metadata": {
  "kernelspec": {
   "display_name": "Python 3",
   "language": "python",
   "name": "python3"
  },
  "language_info": {
   "codemirror_mode": {
    "name": "ipython",
    "version": 3
   },
   "file_extension": ".py",
   "mimetype": "text/x-python",
   "name": "python",
   "nbconvert_exporter": "python",
   "pygments_lexer": "ipython3",
   "version": "3.7.4"
  },
  "varInspector": {
   "cols": {
    "lenName": 16,
    "lenType": 16,
    "lenVar": 40
   },
   "kernels_config": {
    "python": {
     "delete_cmd_postfix": "",
     "delete_cmd_prefix": "del ",
     "library": "var_list.py",
     "varRefreshCmd": "print(var_dic_list())"
    },
    "r": {
     "delete_cmd_postfix": ") ",
     "delete_cmd_prefix": "rm(",
     "library": "var_list.r",
     "varRefreshCmd": "cat(var_dic_list()) "
    }
   },
   "types_to_exclude": [
    "module",
    "function",
    "builtin_function_or_method",
    "instance",
    "_Feature"
   ],
   "window_display": false
  }
 },
 "nbformat": 4,
 "nbformat_minor": 5
}
